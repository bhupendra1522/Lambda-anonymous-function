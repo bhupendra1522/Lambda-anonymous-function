{
 "cells": [
  {
   "cell_type": "markdown",
   "id": "7d002839",
   "metadata": {},
   "source": [
    "lambda - anonymous functions"
   ]
  },
  {
   "cell_type": "raw",
   "id": "de75e509",
   "metadata": {},
   "source": [
    "lambda variable:expression"
   ]
  },
  {
   "cell_type": "code",
   "execution_count": 1,
   "id": "b9a9e99c",
   "metadata": {},
   "outputs": [],
   "source": [
    "t1=lambda x:x+2"
   ]
  },
  {
   "cell_type": "code",
   "execution_count": 2,
   "id": "e1c0ad0e",
   "metadata": {},
   "outputs": [
    {
     "data": {
      "text/plain": [
       "4"
      ]
     },
     "execution_count": 2,
     "metadata": {},
     "output_type": "execute_result"
    }
   ],
   "source": [
    "t1(2)"
   ]
  },
  {
   "cell_type": "code",
   "execution_count": 3,
   "id": "4a4eeae1",
   "metadata": {},
   "outputs": [],
   "source": [
    "t2=lambda x:x+6"
   ]
  },
  {
   "cell_type": "code",
   "execution_count": 4,
   "id": "c558b0dc",
   "metadata": {},
   "outputs": [
    {
     "data": {
      "text/plain": [
       "14"
      ]
     },
     "execution_count": 4,
     "metadata": {},
     "output_type": "execute_result"
    }
   ],
   "source": [
    "t2(8)"
   ]
  },
  {
   "cell_type": "code",
   "execution_count": 5,
   "id": "99983163",
   "metadata": {},
   "outputs": [],
   "source": [
    "t3= lambda x:x*2"
   ]
  },
  {
   "cell_type": "code",
   "execution_count": 8,
   "id": "e13feba4",
   "metadata": {},
   "outputs": [
    {
     "data": {
      "text/plain": [
       "24"
      ]
     },
     "execution_count": 8,
     "metadata": {},
     "output_type": "execute_result"
    }
   ],
   "source": [
    "t3(12)"
   ]
  },
  {
   "cell_type": "code",
   "execution_count": 9,
   "id": "a64b7101",
   "metadata": {},
   "outputs": [],
   "source": [
    "t4= lambda y:y+5"
   ]
  },
  {
   "cell_type": "code",
   "execution_count": 10,
   "id": "80e76185",
   "metadata": {},
   "outputs": [
    {
     "data": {
      "text/plain": [
       "15"
      ]
     },
     "execution_count": 10,
     "metadata": {},
     "output_type": "execute_result"
    }
   ],
   "source": [
    "t4(10)"
   ]
  },
  {
   "cell_type": "code",
   "execution_count": 11,
   "id": "293041f6",
   "metadata": {},
   "outputs": [
    {
     "data": {
      "text/plain": [
       "105"
      ]
     },
     "execution_count": 11,
     "metadata": {},
     "output_type": "execute_result"
    }
   ],
   "source": [
    "t4(100)"
   ]
  },
  {
   "cell_type": "code",
   "execution_count": 12,
   "id": "db05f824",
   "metadata": {},
   "outputs": [
    {
     "data": {
      "text/plain": [
       "83"
      ]
     },
     "execution_count": 12,
     "metadata": {},
     "output_type": "execute_result"
    }
   ],
   "source": [
    "t4(78)"
   ]
  },
  {
   "cell_type": "code",
   "execution_count": 13,
   "id": "30e79811",
   "metadata": {},
   "outputs": [],
   "source": [
    "t5= lambda y:y**2"
   ]
  },
  {
   "cell_type": "code",
   "execution_count": 14,
   "id": "2e909216",
   "metadata": {},
   "outputs": [
    {
     "data": {
      "text/plain": [
       "81"
      ]
     },
     "execution_count": 14,
     "metadata": {},
     "output_type": "execute_result"
    }
   ],
   "source": [
    "t5(9)"
   ]
  },
  {
   "cell_type": "code",
   "execution_count": 15,
   "id": "302f5deb",
   "metadata": {},
   "outputs": [
    {
     "data": {
      "text/plain": [
       "25"
      ]
     },
     "execution_count": 15,
     "metadata": {},
     "output_type": "execute_result"
    }
   ],
   "source": [
    "t5(5)"
   ]
  },
  {
   "cell_type": "code",
   "execution_count": 16,
   "id": "fd541c0d",
   "metadata": {},
   "outputs": [],
   "source": [
    "t6= lambda x,y:x+y"
   ]
  },
  {
   "cell_type": "code",
   "execution_count": 17,
   "id": "968ceec6",
   "metadata": {},
   "outputs": [
    {
     "data": {
      "text/plain": [
       "4"
      ]
     },
     "execution_count": 17,
     "metadata": {},
     "output_type": "execute_result"
    }
   ],
   "source": [
    "t6(2,2)"
   ]
  },
  {
   "cell_type": "code",
   "execution_count": 18,
   "id": "dcbd8a89",
   "metadata": {},
   "outputs": [
    {
     "data": {
      "text/plain": [
       "12"
      ]
     },
     "execution_count": 18,
     "metadata": {},
     "output_type": "execute_result"
    }
   ],
   "source": [
    "t6(4,8)"
   ]
  },
  {
   "cell_type": "code",
   "execution_count": 19,
   "id": "2efc0103",
   "metadata": {},
   "outputs": [
    {
     "data": {
      "text/plain": [
       "22"
      ]
     },
     "execution_count": 19,
     "metadata": {},
     "output_type": "execute_result"
    }
   ],
   "source": [
    "t6(12,10)"
   ]
  },
  {
   "cell_type": "code",
   "execution_count": 20,
   "id": "29d9bf02",
   "metadata": {},
   "outputs": [],
   "source": [
    "t7=lambda x,y:x*y"
   ]
  },
  {
   "cell_type": "code",
   "execution_count": 21,
   "id": "c67ef124",
   "metadata": {},
   "outputs": [
    {
     "data": {
      "text/plain": [
       "6"
      ]
     },
     "execution_count": 21,
     "metadata": {},
     "output_type": "execute_result"
    }
   ],
   "source": [
    "t7(3,2)"
   ]
  },
  {
   "cell_type": "code",
   "execution_count": 22,
   "id": "e6642858",
   "metadata": {},
   "outputs": [
    {
     "data": {
      "text/plain": [
       "32"
      ]
     },
     "execution_count": 22,
     "metadata": {},
     "output_type": "execute_result"
    }
   ],
   "source": [
    "t7(8,4)"
   ]
  },
  {
   "cell_type": "code",
   "execution_count": 23,
   "id": "48ae0f3f",
   "metadata": {},
   "outputs": [],
   "source": [
    "t8= lambda p:p**2"
   ]
  },
  {
   "cell_type": "code",
   "execution_count": 24,
   "id": "d184bf54",
   "metadata": {},
   "outputs": [
    {
     "data": {
      "text/plain": [
       "16"
      ]
     },
     "execution_count": 24,
     "metadata": {},
     "output_type": "execute_result"
    }
   ],
   "source": [
    "t8(4)"
   ]
  },
  {
   "cell_type": "code",
   "execution_count": 26,
   "id": "7eadefd0",
   "metadata": {},
   "outputs": [
    {
     "data": {
      "text/plain": [
       "144"
      ]
     },
     "execution_count": 26,
     "metadata": {},
     "output_type": "execute_result"
    }
   ],
   "source": [
    "t8(12)"
   ]
  },
  {
   "cell_type": "code",
   "execution_count": 27,
   "id": "10c9e25a",
   "metadata": {},
   "outputs": [],
   "source": [
    "t9=lambda s:s**3"
   ]
  },
  {
   "cell_type": "code",
   "execution_count": 28,
   "id": "de3ac57b",
   "metadata": {},
   "outputs": [
    {
     "data": {
      "text/plain": [
       "27"
      ]
     },
     "execution_count": 28,
     "metadata": {},
     "output_type": "execute_result"
    }
   ],
   "source": [
    "t9(3)"
   ]
  },
  {
   "cell_type": "code",
   "execution_count": 29,
   "id": "9643deec",
   "metadata": {},
   "outputs": [
    {
     "data": {
      "text/plain": [
       "3375"
      ]
     },
     "execution_count": 29,
     "metadata": {},
     "output_type": "execute_result"
    }
   ],
   "source": [
    "t9(15)"
   ]
  },
  {
   "cell_type": "code",
   "execution_count": 30,
   "id": "936a40cc",
   "metadata": {},
   "outputs": [],
   "source": [
    "t10=lambda m:m**(1/2)"
   ]
  },
  {
   "cell_type": "code",
   "execution_count": 31,
   "id": "e6dc83a8",
   "metadata": {},
   "outputs": [
    {
     "data": {
      "text/plain": [
       "5.0"
      ]
     },
     "execution_count": 31,
     "metadata": {},
     "output_type": "execute_result"
    }
   ],
   "source": [
    "t10(25)"
   ]
  },
  {
   "cell_type": "code",
   "execution_count": 32,
   "id": "0f3da299",
   "metadata": {},
   "outputs": [
    {
     "data": {
      "text/plain": [
       "7.0"
      ]
     },
     "execution_count": 32,
     "metadata": {},
     "output_type": "execute_result"
    }
   ],
   "source": [
    "t10(49)"
   ]
  },
  {
   "cell_type": "code",
   "execution_count": 33,
   "id": "2b569d8c",
   "metadata": {},
   "outputs": [],
   "source": [
    "t11=lambda var1,var2:var1+var2"
   ]
  },
  {
   "cell_type": "code",
   "execution_count": 34,
   "id": "acf44356",
   "metadata": {},
   "outputs": [
    {
     "data": {
      "text/plain": [
       "13"
      ]
     },
     "execution_count": 34,
     "metadata": {},
     "output_type": "execute_result"
    }
   ],
   "source": [
    "t11(8,5)"
   ]
  },
  {
   "cell_type": "code",
   "execution_count": 39,
   "id": "ba09fa03",
   "metadata": {},
   "outputs": [],
   "source": [
    "area=lambda pi,radius:pi*(radius**2)"
   ]
  },
  {
   "cell_type": "code",
   "execution_count": 40,
   "id": "e1f0aeee",
   "metadata": {},
   "outputs": [
    {
     "data": {
      "text/plain": [
       "1256.0"
      ]
     },
     "execution_count": 40,
     "metadata": {},
     "output_type": "execute_result"
    }
   ],
   "source": [
    "area(3.14,20)"
   ]
  },
  {
   "cell_type": "code",
   "execution_count": 42,
   "id": "ba6b65d2",
   "metadata": {},
   "outputs": [
    {
     "data": {
      "text/plain": [
       "78.5"
      ]
     },
     "execution_count": 42,
     "metadata": {},
     "output_type": "execute_result"
    }
   ],
   "source": [
    "carea(3.14,5)"
   ]
  },
  {
   "cell_type": "markdown",
   "id": "be740a8b",
   "metadata": {},
   "source": [
    "# anonymous functoin\n",
    "\n",
    "lambda"
   ]
  },
  {
   "cell_type": "raw",
   "id": "9cf98c91",
   "metadata": {},
   "source": [
    "a lamda function is small functoin containing a single expression. lamvbda function can also act as \n",
    "anonymous functon where they dont require any name. they are very helpful when we have to perform \n",
    "small task with less code.\n",
    "\n",
    "the expression is composed of:\n",
    "    \n",
    "the keyword: lambda\n",
    "A bound variable: x\n",
    "A body: x*2"
   ]
  },
  {
   "cell_type": "code",
   "execution_count": 43,
   "id": "6a9ce074",
   "metadata": {},
   "outputs": [
    {
     "data": {
      "text/plain": [
       "10"
      ]
     },
     "execution_count": 43,
     "metadata": {},
     "output_type": "execute_result"
    }
   ],
   "source": [
    "test = lambda x:x*2\n",
    "test (5)"
   ]
  },
  {
   "cell_type": "code",
   "execution_count": 44,
   "id": "7587ba9c",
   "metadata": {},
   "outputs": [
    {
     "data": {
      "text/plain": [
       "16"
      ]
     },
     "execution_count": 44,
     "metadata": {},
     "output_type": "execute_result"
    }
   ],
   "source": [
    "test (8)"
   ]
  },
  {
   "cell_type": "code",
   "execution_count": 45,
   "id": "c494e276",
   "metadata": {},
   "outputs": [
    {
     "data": {
      "text/plain": [
       "6"
      ]
     },
     "execution_count": 45,
     "metadata": {},
     "output_type": "execute_result"
    }
   ],
   "source": [
    "m=lambda x, y, z: x+y+z\n",
    "m(1,2,3)"
   ]
  },
  {
   "cell_type": "code",
   "execution_count": 46,
   "id": "2cf24538",
   "metadata": {},
   "outputs": [
    {
     "data": {
      "text/plain": [
       "16"
      ]
     },
     "execution_count": 46,
     "metadata": {},
     "output_type": "execute_result"
    }
   ],
   "source": [
    "# find square\n",
    "square = lambda x:x**2\n",
    "\n",
    "square(4)"
   ]
  },
  {
   "cell_type": "code",
   "execution_count": 47,
   "id": "b23c8462",
   "metadata": {},
   "outputs": [
    {
     "data": {
      "text/plain": [
       "8.0"
      ]
     },
     "execution_count": 47,
     "metadata": {},
     "output_type": "execute_result"
    }
   ],
   "source": [
    "# find squareroot\n",
    "sqroot=lambda x:x**(1/2)\n",
    "sqroot(64)"
   ]
  },
  {
   "cell_type": "code",
   "execution_count": 48,
   "id": "21f03c15",
   "metadata": {},
   "outputs": [
    {
     "data": {
      "text/plain": [
       "5.0"
      ]
     },
     "execution_count": 48,
     "metadata": {},
     "output_type": "execute_result"
    }
   ],
   "source": [
    "sqroot(25)"
   ]
  },
  {
   "cell_type": "code",
   "execution_count": 49,
   "id": "543c9b4b",
   "metadata": {},
   "outputs": [
    {
     "data": {
      "text/plain": [
       "64"
      ]
     },
     "execution_count": 49,
     "metadata": {},
     "output_type": "execute_result"
    }
   ],
   "source": [
    "# find cube\n",
    "cube=lambda x:x**3\n",
    "cube(4)"
   ]
  },
  {
   "cell_type": "code",
   "execution_count": 50,
   "id": "d89d9f0e",
   "metadata": {},
   "outputs": [
    {
     "data": {
      "text/plain": [
       "3.0"
      ]
     },
     "execution_count": 50,
     "metadata": {},
     "output_type": "execute_result"
    }
   ],
   "source": [
    "# find cuberoot\n",
    "cbroot=lambda x:x**(1/3)\n",
    "cbroot(27)"
   ]
  },
  {
   "cell_type": "code",
   "execution_count": 1,
   "id": "6fde29c2",
   "metadata": {},
   "outputs": [
    {
     "name": "stdout",
     "output_type": "stream",
     "text": [
      "value of total :  15\n",
      "value of total :  70\n"
     ]
    }
   ],
   "source": [
    "addvar = lambda arg1, arg2: arg1 + arg2\n",
    "\n",
    "# now you can call sum as function\n",
    "print (\"value of total : \", addvar(5,10))\n",
    "print (\"value of total : \", addvar(30,40))"
   ]
  },
  {
   "cell_type": "code",
   "execution_count": 7,
   "id": "3f111e88",
   "metadata": {},
   "outputs": [],
   "source": [
    "#converting temprature in fahrenheit\n",
    "def fahrenheit(t):\n",
    "    return(9/5)*t +32"
   ]
  },
  {
   "cell_type": "code",
   "execution_count": 10,
   "id": "cc2d3e12",
   "metadata": {},
   "outputs": [
    {
     "data": {
      "text/plain": [
       "95.0"
      ]
     },
     "execution_count": 10,
     "metadata": {},
     "output_type": "execute_result"
    }
   ],
   "source": [
    "f=fahrenheit(35)\n",
    "f"
   ]
  },
  {
   "cell_type": "code",
   "execution_count": 16,
   "id": "8592ae1f",
   "metadata": {},
   "outputs": [],
   "source": [
    "  #converting temprature in celsius\n",
    "def celsius(t):\n",
    "        return ((5/9)*(t-32))             \n",
    "               \n",
    "               "
   ]
  },
  {
   "cell_type": "code",
   "execution_count": 17,
   "id": "78c85a90",
   "metadata": {},
   "outputs": [
    {
     "data": {
      "text/plain": [
       "35.0"
      ]
     },
     "execution_count": 17,
     "metadata": {},
     "output_type": "execute_result"
    }
   ],
   "source": [
    "ce=celsius(95)\n",
    "ce"
   ]
  },
  {
   "cell_type": "code",
   "execution_count": 21,
   "id": "a5503dff",
   "metadata": {},
   "outputs": [],
   "source": [
    "def testin():\n",
    "    x=int(input(\"enter x\"))\n",
    "    y=int(input(\"enter y\"))\n",
    "    t=lambda x,y:x**y\n",
    "    print(t(x,y))"
   ]
  },
  {
   "cell_type": "code",
   "execution_count": 22,
   "id": "fe79c2f9",
   "metadata": {},
   "outputs": [
    {
     "name": "stdout",
     "output_type": "stream",
     "text": [
      "enter x4\n",
      "enter y3\n",
      "64\n"
     ]
    }
   ],
   "source": [
    "testin()"
   ]
  },
  {
   "cell_type": "code",
   "execution_count": 30,
   "id": "1711a844",
   "metadata": {},
   "outputs": [],
   "source": [
    "celsiustemp=lambda t:(9/5)*t+32"
   ]
  },
  {
   "cell_type": "code",
   "execution_count": 31,
   "id": "d286af77",
   "metadata": {},
   "outputs": [
    {
     "data": {
      "text/plain": [
       "95.0"
      ]
     },
     "execution_count": 31,
     "metadata": {},
     "output_type": "execute_result"
    }
   ],
   "source": [
    "celsiustemp(35)"
   ]
  },
  {
   "cell_type": "code",
   "execution_count": 43,
   "id": "2b3a217a",
   "metadata": {},
   "outputs": [],
   "source": [
    "fahreinheittemp=lambda t:(5/9)*(t-32)"
   ]
  },
  {
   "cell_type": "code",
   "execution_count": 44,
   "id": "e6450059",
   "metadata": {},
   "outputs": [
    {
     "data": {
      "text/plain": [
       "35.0"
      ]
     },
     "execution_count": 44,
     "metadata": {},
     "output_type": "execute_result"
    }
   ],
   "source": [
    "fahreinheittemp(95)"
   ]
  },
  {
   "cell_type": "code",
   "execution_count": 47,
   "id": "f6b23faa",
   "metadata": {},
   "outputs": [
    {
     "data": {
      "text/plain": [
       "<map at 0x1ebdf4c0a60>"
      ]
     },
     "execution_count": 47,
     "metadata": {},
     "output_type": "execute_result"
    }
   ],
   "source": [
    "list1=[10,20,30,40]\n",
    "map(lambda x:x+2,list1)"
   ]
  },
  {
   "cell_type": "code",
   "execution_count": 48,
   "id": "3abaad36",
   "metadata": {},
   "outputs": [
    {
     "data": {
      "text/plain": [
       "[12, 22, 32, 42]"
      ]
     },
     "execution_count": 48,
     "metadata": {},
     "output_type": "execute_result"
    }
   ],
   "source": [
    "list1=[10,20,30,40]\n",
    "list(map(lambda x:x+2,list1)) "
   ]
  },
  {
   "cell_type": "code",
   "execution_count": null,
   "id": "041d3c3a",
   "metadata": {},
   "outputs": [],
   "source": []
  },
  {
   "cell_type": "code",
   "execution_count": null,
   "id": "694e8455",
   "metadata": {},
   "outputs": [],
   "source": []
  },
  {
   "cell_type": "markdown",
   "id": "4711a2f5",
   "metadata": {},
   "source": [
    "lets use lambda anonymous function by using lambda, we wouldn't have hade to define and name the \n",
    "function fahrenheit() and celsius()."
   ]
  },
  {
   "cell_type": "code",
   "execution_count": 26,
   "id": "41eaf8c6",
   "metadata": {},
   "outputs": [
    {
     "data": {
      "text/plain": [
       "101.12"
      ]
     },
     "execution_count": 26,
     "metadata": {},
     "output_type": "execute_result"
    }
   ],
   "source": [
    "# lambda with fahrenheit\n",
    "\n",
    "f = lambda x :(9/5)*x + 32;\n",
    "f(38.4)"
   ]
  },
  {
   "cell_type": "code",
   "execution_count": 29,
   "id": "4783c300",
   "metadata": {},
   "outputs": [
    {
     "data": {
      "text/plain": [
       "<map at 0x1ebdf2fbc40>"
      ]
     },
     "execution_count": 29,
     "metadata": {},
     "output_type": "execute_result"
    }
   ],
   "source": [
    "mylist = (1,2,3,4)\n",
    "map(lambda x: x*2, mylist)"
   ]
  },
  {
   "cell_type": "code",
   "execution_count": null,
   "id": "cefed940",
   "metadata": {},
   "outputs": [],
   "source": []
  },
  {
   "cell_type": "code",
   "execution_count": null,
   "id": "c50541a0",
   "metadata": {},
   "outputs": [],
   "source": []
  }
 ],
 "metadata": {
  "kernelspec": {
   "display_name": "Python 3 (ipykernel)",
   "language": "python",
   "name": "python3"
  },
  "language_info": {
   "codemirror_mode": {
    "name": "ipython",
    "version": 3
   },
   "file_extension": ".py",
   "mimetype": "text/x-python",
   "name": "python",
   "nbconvert_exporter": "python",
   "pygments_lexer": "ipython3",
   "version": "3.9.12"
  }
 },
 "nbformat": 4,
 "nbformat_minor": 5
}
